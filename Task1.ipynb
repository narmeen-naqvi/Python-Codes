{
 "cells": [
  {
   "cell_type": "code",
   "execution_count": 3,
   "id": "fd55a9e4",
   "metadata": {},
   "outputs": [
    {
     "name": "stdout",
     "output_type": "stream",
     "text": [
      "['bedroom', 112.0, 'hallway', 113.5, 'bathroom', 189.5, 'kitchen', 789.0, 'livingroom', 230.2]\n",
      "[112.0, 113.5, 189.5, 789.0, 230.2]\n",
      "['bedroom', 'hallway', 'bathroom', 'kitchen', 'livingroom']\n",
      "['bedroom', 112.0]\n"
     ]
    }
   ],
   "source": [
    "'''\n",
    "TASK 1:\n",
    "Create a list of areas that contains the areas of the bedroom, hallway, bathroom, kitchen, and\n",
    "living room of a house with the following values respectfuly.\n",
    "112.0, 113.5, 189.5, 789.0 , 230.2.\n",
    "Make a clone of the areas list and name it as float_area now remove all values except for float\n",
    "values in the float_area list. Do the same for string values as well and name it as str_area. Now\n",
    "you will have three lists.\n",
    "Areas\n",
    "Float_area\n",
    "Str_area\n",
    "a. Print all elements of lists using slicing\n",
    "b. Print the area of bedroom along its name from Areas list using slicing \n",
    "'''\n",
    "list_of_areas = ['bedroom',112.0,'hallway',113.5,'bathroom',189.5,'kitchen',789.0,'livingroom',230.2]\n",
    "float_area = list_of_areas[:]\n",
    "for x in list_of_areas:\n",
    "    check = type(x) == str\n",
    "    if check == True:\n",
    "        float_area.remove(x)\n",
    "        \n",
    "str_area = list_of_areas[:]\n",
    "for x in list_of_areas:\n",
    "    check = type(x) == float\n",
    "    if check == True:\n",
    "        str_area.remove(x)\n",
    "        \n",
    "\n",
    "print(list_of_areas[:])\n",
    "print(float_area[:])\n",
    "print(str_area[:])\n",
    "print(list_of_areas[0:2])"
   ]
  },
  {
   "cell_type": "code",
   "execution_count": null,
   "id": "eb5cc713",
   "metadata": {},
   "outputs": [],
   "source": []
  }
 ],
 "metadata": {
  "kernelspec": {
   "display_name": "Python 3 (ipykernel)",
   "language": "python",
   "name": "python3"
  },
  "language_info": {
   "codemirror_mode": {
    "name": "ipython",
    "version": 3
   },
   "file_extension": ".py",
   "mimetype": "text/x-python",
   "name": "python",
   "nbconvert_exporter": "python",
   "pygments_lexer": "ipython3",
   "version": "3.9.7"
  }
 },
 "nbformat": 4,
 "nbformat_minor": 5
}
